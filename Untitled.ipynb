{
 "cells": [
  {
   "cell_type": "code",
   "execution_count": 6,
   "metadata": {},
   "outputs": [],
   "source": [
    "import matplotlib.pyplot as plt\n",
    "import pandas as pd\n",
    "import numpy as np"
   ]
  },
  {
   "cell_type": "code",
   "execution_count": 7,
   "metadata": {},
   "outputs": [],
   "source": [
    "ts = pd.Series(np.random.randn(1000), index=pd.date_range('1/1/2000', periods=1000))"
   ]
  },
  {
   "cell_type": "code",
   "execution_count": 8,
   "metadata": {},
   "outputs": [
    {
     "data": {
      "text/plain": [
       "2000-01-01   -0.555133\n",
       "2000-01-02    0.134887\n",
       "2000-01-03    0.715498\n",
       "2000-01-04    0.273751\n",
       "2000-01-05   -0.711393\n",
       "2000-01-06    0.459621\n",
       "2000-01-07   -0.105449\n",
       "2000-01-08   -1.074985\n",
       "2000-01-09   -0.097083\n",
       "2000-01-10   -1.634853\n",
       "2000-01-11    1.651392\n",
       "2000-01-12    0.808122\n",
       "2000-01-13    0.125075\n",
       "2000-01-14   -0.901613\n",
       "2000-01-15    1.843841\n",
       "2000-01-16   -1.816797\n",
       "2000-01-17   -0.331974\n",
       "2000-01-18    0.100062\n",
       "2000-01-19   -2.528626\n",
       "2000-01-20   -0.059134\n",
       "2000-01-21    1.949824\n",
       "2000-01-22   -0.385295\n",
       "2000-01-23   -1.932067\n",
       "2000-01-24    1.775352\n",
       "2000-01-25    0.433548\n",
       "2000-01-26   -0.647780\n",
       "2000-01-27    1.572850\n",
       "2000-01-28    1.092190\n",
       "2000-01-29    1.141676\n",
       "2000-01-30    1.001678\n",
       "                ...   \n",
       "2002-08-28    0.119377\n",
       "2002-08-29   -0.653285\n",
       "2002-08-30   -0.108470\n",
       "2002-08-31    2.299553\n",
       "2002-09-01   -0.136924\n",
       "2002-09-02    0.251607\n",
       "2002-09-03   -0.168845\n",
       "2002-09-04    0.272751\n",
       "2002-09-05    0.641869\n",
       "2002-09-06   -1.512383\n",
       "2002-09-07   -1.767890\n",
       "2002-09-08   -0.136207\n",
       "2002-09-09    0.211901\n",
       "2002-09-10    0.744444\n",
       "2002-09-11   -1.348156\n",
       "2002-09-12   -1.234347\n",
       "2002-09-13    0.298913\n",
       "2002-09-14    1.892428\n",
       "2002-09-15   -1.678018\n",
       "2002-09-16   -1.391713\n",
       "2002-09-17   -0.101154\n",
       "2002-09-18   -0.082626\n",
       "2002-09-19   -1.395619\n",
       "2002-09-20   -1.506738\n",
       "2002-09-21   -0.217988\n",
       "2002-09-22   -2.091962\n",
       "2002-09-23    1.896596\n",
       "2002-09-24   -0.727867\n",
       "2002-09-25   -0.869380\n",
       "2002-09-26    1.840357\n",
       "Freq: D, Length: 1000, dtype: float64"
      ]
     },
     "execution_count": 8,
     "metadata": {},
     "output_type": "execute_result"
    }
   ],
   "source": [
    "ts"
   ]
  },
  {
   "cell_type": "code",
   "execution_count": 9,
   "metadata": {},
   "outputs": [],
   "source": [
    "ts = ts.cumsum()"
   ]
  },
  {
   "cell_type": "code",
   "execution_count": 12,
   "metadata": {},
   "outputs": [
    {
     "data": {
      "text/plain": [
       "<Figure size 432x288 with 0 Axes>"
      ]
     },
     "execution_count": 12,
     "metadata": {},
     "output_type": "execute_result"
    },
    {
     "data": {
      "text/plain": [
       "<Figure size 432x288 with 0 Axes>"
      ]
     },
     "metadata": {},
     "output_type": "display_data"
    }
   ],
   "source": [
    "plt.figure()"
   ]
  },
  {
   "cell_type": "code",
   "execution_count": 14,
   "metadata": {},
   "outputs": [
    {
     "data": {
      "text/plain": [
       "<matplotlib.axes._subplots.AxesSubplot at 0x20602171710>"
      ]
     },
     "execution_count": 14,
     "metadata": {},
     "output_type": "execute_result"
    },
    {
     "data": {
      "image/png": "[encoded data removed]",
      "text/plain": [
       "<Figure size 432x288 with 1 Axes>"
      ]
     },
     "metadata": {},
     "output_type": "display_data"
    }
   ],
   "source": [
    "ts.plot()"
   ]
  },
  {
   "cell_type": "code",
   "execution_count": null,
   "metadata": {},
   "outputs": [],
   "source": []
  }
 ],
 "metadata": {
  "kernelspec": {
   "display_name": "Python 3",
   "language": "python",
   "name": "python3"
  },
  "language_info": {
   "codemirror_mode": {
    "name": "ipython",
    "version": 3
   },
   "file_extension": ".py",
   "mimetype": "text/x-python",
   "name": "python",
   "nbconvert_exporter": "python",
   "pygments_lexer": "ipython3",
   "version": "3.6.5"
  }
 },
 "nbformat": 4,
 "nbformat_minor": 2
}
