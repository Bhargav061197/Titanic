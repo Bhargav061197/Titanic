{
 "cells": [
  {
   "cell_type": "markdown",
   "metadata": {
    "_cell_guid": "22ba49b5-b3b6-4129-8c57-623e0d863ab3",
    "_uuid": "ff014109d795c5d1bfcc66c9761730406124ebe4"
   },
   "source": [
    "# Define the Problem\n",
    "The problem definition is given to us.\n",
    "Competition Description\n",
    "The sinking of the RMS Titanic is one of the most infamous shipwrecks in history.  On April 15, 1912, during her maiden voyage, the Titanic sank after colliding with an iceberg, killing 1502 out of 2224 passengers and crew. This sensational tragedy shocked the international community and led to better safety regulations for ships.\n",
    "\n",
    "One of the reasons that the shipwreck led to such loss of life was that there were not enough lifeboats for the passengers and crew. Although there was some element of luck involved in surviving the sinking, some groups of people were more likely to survive than others, such as women, children, and the upper-class.\n",
    "\n",
    "In this challenge, we ask you to complete the analysis of what sorts of people were likely to survive. In particular, we ask you to apply the tools of machine learning to predict which passengers survived the tragedy.\n",
    "\n",
    "# Gather the Data\n",
    "The dataset is given to us"
   ]
  },
  {
   "cell_type": "markdown",
   "metadata": {
    "_cell_guid": "ef4059c6-9397-4b72-85da-570f51ba139c",
    "_uuid": "f1d8b59b37d2ce04a5396a0ab183dc3000817113"
   },
   "source": [
    "# Data Preparation \n"
   ]
  },
  {
   "cell_type": "code",
   "execution_count": null,
   "metadata": {
    "_cell_guid": "a33744a8-08c7-4158-a22f-e8f2008a25b0",
    "_kg_hide-input": false,
    "_kg_hide-output": false,
    "_uuid": "412b006d19b0209bd10ee4c6d15fdf59f8d2af38",
    "collapsed": true
   },
   "outputs": [],
   "source": [
    "# This Python 3 environment comes with many helpful analytics libraries installed\n",
    "import sys \n",
    "import pandas as pd \n",
    "import matplotlib \n",
    "import numpy as np \n",
    "import scipy as sp\n",
    "import IPython\n",
    "from IPython import display \n",
    "import sklearn\n",
    "import random\n",
    "import time\n",
    "import warnings\n",
    "warnings.filterwarnings('ignore')\n",
    "print('-'*25)\n",
    "from subprocess import check_output\n",
    "print(check_output([\"ls\", \"../input\"]).decode(\"utf8\"))"
   ]
  },
  {
   "cell_type": "code",
   "execution_count": null,
   "metadata": {
    "_cell_guid": "b230c790-a3f5-46ed-b351-57e96cc8fa61",
    "_uuid": "4a16d09256317518769f21bf9cc38726df8b0078",
    "collapsed": true
   },
   "outputs": [],
   "source": [
    "from sklearn import svm, tree, linear_model, neighbors, naive_bayes, ensemble, discriminant_analysis, gaussian_process\n",
    "from xgboost import XGBClassifier\n",
    "from sklearn.preprocessing import OneHotEncoder, LabelEncoder\n",
    "from sklearn import feature_selection\n",
    "from sklearn import model_selection\n",
    "from sklearn import metrics\n",
    "import matplotlib as mpl\n",
    "import matplotlib.pyplot as plt\n",
    "import matplotlib.pylab as pylab\n",
    "import seaborn as sns\n",
    "from pandas.tools.plotting import scatter_matrix\n",
    "%matplotlib inline\n",
    "mpl.style.use('ggplot')\n",
    "sns.set_style('white')\n",
    "pylab.rcParams['figure.figsize'] = 12,8"
   ]
  },
  {
   "cell_type": "code",
   "execution_count": null,
   "metadata": {
    "_cell_guid": "c0928d7d-043b-4aa5-8113-e96fb42dbdc7",
    "_uuid": "d0afb79a714ea826208235d05afac4e3f60554db",
    "collapsed": true
   },
   "outputs": [],
   "source": [
    "data_raw = pd.read_csv('../input/train.csv')\n",
    "data_val  = pd.read_csv('../input/test.csv')\n",
    "data1 = data_raw.copy(deep = True)\n",
    "data_cleaner = [data1, data_val]\n",
    "print (data_raw.info()) \n",
    "data_raw.sample(10)"
   ]
  },
  {
   "cell_type": "code",
   "execution_count": null,
   "metadata": {
    "_cell_guid": "e2181a68-3c33-4040-83a9-99adee8363a0",
    "_kg_hide-input": false,
    "_kg_hide-output": false,
    "_uuid": "9a36681f0eda8ccc6396c64aa6bd6e8288461bcb",
    "collapsed": true,
    "scrolled": false
   },
   "outputs": [],
   "source": [
    "print('Train columns with null values:\\n', data1.isnull().sum())\n",
    "print(\"-\"*25)\n",
    "print('Test/Validation columns with null values:\\n', data_val.isnull().sum())\n",
    "print(\"-\"*25)\n",
    "data_raw.describe(include = 'all')"
   ]
  },
  {
   "cell_type": "code",
   "execution_count": null,
   "metadata": {
    "_cell_guid": "56e3e982-a23a-4c84-b8a1-976adc94aa0b",
    "_uuid": "160dd59e4ebe7a94521c65da2746ca370b4bd694",
    "collapsed": true
   },
   "outputs": [],
   "source": [
    "for dataset in data_cleaner:\n",
    "    dataset['Age'].fillna(dataset['Age'].median(), inplace = True)\n",
    "    dataset['Embarked'].fillna(dataset['Embarked'].mode()[0], inplace = True)\n",
    "    dataset['Fare'].fillna(dataset['Fare'].median(), inplace = True)\n",
    "drop_column = ['PassengerId','Cabin', 'Ticket']\n",
    "data1.drop(drop_column, axis=1, inplace = True)\n",
    "print(data1.isnull().sum())\n",
    "print(\"-\"*25)\n",
    "print(data_val.isnull().sum())"
   ]
  },
  {
   "cell_type": "code",
   "execution_count": null,
   "metadata": {
    "_cell_guid": "c66b14b7-e1e5-43d7-9260-840fe0ef46c7",
    "_uuid": "e62f1b14f6f9758b66182e2476f3c57bb4a0734c",
    "collapsed": true,
    "scrolled": false
   },
   "outputs": [],
   "source": [
    "# Feature Engineering\n",
    "for dataset in data_cleaner:\n",
    "    dataset['FamilySize'] = dataset ['SibSp'] + dataset['Parch'] + 1\n",
    "    dataset['IsAlone'] = 1 \n",
    "    dataset['IsAlone'].loc[dataset['FamilySize'] > 1] = 0 \n",
    "    dataset['Title'] = dataset['Name'].str.split(\", \", expand=True)[1].str.split(\".\", expand=True)[0]\n",
    "    dataset['FareBin'] = pd.qcut(dataset['Fare'], 4)\n",
    "    dataset['AgeBin'] = pd.cut(dataset['Age'].astype(int), 5)\n",
    "\n",
    "stat_min = 10 \n",
    "title_names = (data1['Title'].value_counts() < stat_min) \n",
    "data1['Title'] = data1['Title'].apply(lambda x: 'Misc' if title_names.loc[x] == True else x)\n",
    "print(data1['Title'].value_counts())\n",
    "print(\"-\"*25)\n",
    "data1.info()\n",
    "data_val.info()\n",
    "data1.sample(10)"
   ]
  },
  {
   "cell_type": "code",
   "execution_count": null,
   "metadata": {
    "_cell_guid": "95f9a05d-9f6e-46b3-8a3c-95a78f0c0834",
    "_uuid": "7f746d8c6f7d0214253919185fa16f2f6a447a15",
    "collapsed": true,
    "scrolled": true
   },
   "outputs": [],
   "source": [
    "label = LabelEncoder()\n",
    "for dataset in data_cleaner:    \n",
    "    dataset['Sex_Code'] = label.fit_transform(dataset['Sex'])\n",
    "    dataset['Embarked_Code'] = label.fit_transform(dataset['Embarked'])\n",
    "    dataset['Title_Code'] = label.fit_transform(dataset['Title'])\n",
    "    dataset['AgeBin_Code'] = label.fit_transform(dataset['AgeBin'])\n",
    "    dataset['FareBin_Code'] = label.fit_transform(dataset['FareBin'])\n",
    "Target = ['Survived']\n",
    "data1_x = ['Sex','Pclass', 'Embarked', 'Title','SibSp', 'Parch', 'Age', 'Fare', 'FamilySize', 'IsAlone'] #pretty name/values for charts\n",
    "data1_x_calc = ['Sex_Code','Pclass', 'Embarked_Code', 'Title_Code','SibSp', 'Parch', 'Age', 'Fare'] #coded for algorithm calculation\n",
    "data1_xy =  Target + data1_x\n",
    "print('Original X Y: ', data1_xy, '\\n')\n",
    "\n",
    "data1_x_bin = ['Sex_Code','Pclass', 'Embarked_Code', 'Title_Code', 'FamilySize', 'AgeBin_Code', 'FareBin_Code']\n",
    "data1_xy_bin = Target + data1_x_bin\n",
    "print('Bin X Y: ', data1_xy_bin, '\\n')\n",
    "\n",
    "data1_dummy = pd.get_dummies(data1[data1_x])\n",
    "data1_x_dummy = data1_dummy.columns.tolist()\n",
    "data1_xy_dummy = Target + data1_x_dummy\n",
    "print('Dummy X Y: ', data1_xy_dummy, '\\n')\n",
    "\n",
    "data1_dummy.head()\n"
   ]
  },
  {
   "cell_type": "code",
   "execution_count": null,
   "metadata": {
    "_cell_guid": "00d10c37-5d8a-4eaf-8fe8-25a0b58e0bfd",
    "_uuid": "e2ef29db7e31dc83c10238ee33ad4ad0ad426183",
    "collapsed": true,
    "scrolled": false
   },
   "outputs": [],
   "source": [
    "print('Train columns with null values: \\n', data1.isnull().sum())\n",
    "print(\"-\"*25)\n",
    "print (data1.info())\n",
    "print(\"-\"*25)\n",
    "\n",
    "print('Test/Validation columns with null values: \\n', data_val.isnull().sum())\n",
    "print(\"-\"*25)\n",
    "print (data_val.info())\n",
    "print(\"-\"*25)\n",
    "\n",
    "data_raw.describe(include = 'all')"
   ]
  },
  {
   "cell_type": "code",
   "execution_count": null,
   "metadata": {
    "_cell_guid": "15e84f99-e015-4e0a-bd0a-2f856ffad1f6",
    "_uuid": "f9eb9f6e78235a38580ee3125ede17b836edabb3",
    "collapsed": true
   },
   "outputs": [],
   "source": [
    "train1_x, test1_x, train1_y, test1_y = model_selection.train_test_split(data1[data1_x_calc], data1[Target], random_state = 0)\n",
    "train1_x_bin, test1_x_bin, train1_y_bin, test1_y_bin = model_selection.train_test_split(data1[data1_x_bin], data1[Target] , random_state = 0)\n",
    "train1_x_dummy, test1_x_dummy, train1_y_dummy, test1_y_dummy = model_selection.train_test_split(data1_dummy[data1_x_dummy], data1[Target], random_state = 0)\n",
    "\n",
    "print(\"Data1 Shape: {}\".format(data1.shape))\n",
    "print(\"Train1 Shape: {}\".format(train1_x.shape))\n",
    "print(\"Test1 Shape: {}\".format(test1_x.shape))\n",
    "\n",
    "train1_x_bin.head()"
   ]
  },
  {
   "cell_type": "code",
   "execution_count": null,
   "metadata": {
    "_cell_guid": "f14819d3-e23c-40fa-a281-375e8777a47b",
    "_uuid": "5355b0e45b130a1fd574510141f65e62ebfe2148",
    "collapsed": true,
    "scrolled": false
   },
   "outputs": [],
   "source": [
    "for x in data1_x:\n",
    "    if data1[x].dtype != 'float64' :\n",
    "        print('Survival Correlation by:', x)\n",
    "        print(data1[[x, Target[0]]].groupby(x, as_index=False).mean())\n",
    "        print('-'*10, '\\n')\n",
    "print(pd.crosstab(data1['Title'],data1[Target[0]]))"
   ]
  },
  {
   "cell_type": "code",
   "execution_count": null,
   "metadata": {
    "_cell_guid": "ada8f356-f5bf-4629-81c9-b5a95e16a09d",
    "_uuid": "a8485baedcf8d61ab13c1cb19d3654a835ce1765",
    "collapsed": true,
    "scrolled": false
   },
   "outputs": [],
   "source": [
    "plt.figure(figsize=[16,12])\n",
    "plt.subplot(231)\n",
    "plt.boxplot(x=data1['Fare'], showmeans = True, meanline = True)\n",
    "plt.title('Fare Boxplot')\n",
    "plt.ylabel('Fare ($)')\n",
    "\n",
    "plt.subplot(232)\n",
    "plt.boxplot(data1['Age'], showmeans = True, meanline = True)\n",
    "plt.title('Age Boxplot')\n",
    "plt.ylabel('Age (Years)')\n",
    "\n",
    "plt.subplot(233)\n",
    "plt.boxplot(data1['FamilySize'], showmeans = True, meanline = True)\n",
    "plt.title('Family Size Boxplot')\n",
    "plt.ylabel('Family Size (#)')\n",
    "\n",
    "plt.subplot(234)\n",
    "plt.hist(x = [data1[data1['Survived']==1]['Fare'], data1[data1['Survived']==0]['Fare']], \n",
    "         stacked=True, color = ['g','r'],label = ['Survived','Dead'])\n",
    "plt.title('Fare Histogram by Survival')\n",
    "plt.xlabel('Fare ($)')\n",
    "plt.ylabel('# of Passengers')\n",
    "plt.legend()\n",
    "\n",
    "plt.subplot(235)\n",
    "plt.hist(x = [data1[data1['Survived']==1]['Age'], data1[data1['Survived']==0]['Age']], \n",
    "         stacked=True, color = ['g','r'],label = ['Survived','Dead'])\n",
    "plt.title('Age Histogram by Survival')\n",
    "plt.xlabel('Age (Years)')\n",
    "plt.ylabel('# of Passengers')\n",
    "plt.legend()\n",
    "\n",
    "plt.subplot(236)\n",
    "plt.hist(x = [data1[data1['Survived']==1]['FamilySize'], data1[data1['Survived']==0]['FamilySize']], \n",
    "         stacked=True, color = ['g','r'],label = ['Survived','Dead'])\n",
    "plt.title('Family Size Histogram by Survival')\n",
    "plt.xlabel('Family Size (#)')\n",
    "plt.ylabel('# of Passengers')\n",
    "plt.legend()\n"
   ]
  },
  {
   "cell_type": "code",
   "execution_count": null,
   "metadata": {
    "_cell_guid": "be8b849a-fdf8-4491-b5e2-e70fee8856c3",
    "_uuid": "e8da47b89495ad91f35daab26c153d90099afe7e",
    "collapsed": true
   },
   "outputs": [],
   "source": [
    "fig, saxis = plt.subplots(2, 3,figsize=(16,12))\n",
    "\n",
    "sns.barplot(x = 'Embarked', y = 'Survived', data=data1, ax = saxis[0,0])\n",
    "sns.barplot(x = 'Pclass', y = 'Survived', order=[1,2,3], data=data1, ax = saxis[0,1])\n",
    "sns.barplot(x = 'IsAlone', y = 'Survived', order=[1,0], data=data1, ax = saxis[0,2])\n",
    "\n",
    "sns.pointplot(x = 'FareBin', y = 'Survived',  data=data1, ax = saxis[1,0])\n",
    "sns.pointplot(x = 'AgeBin', y = 'Survived',  data=data1, ax = saxis[1,1])\n",
    "sns.pointplot(x = 'FamilySize', y = 'Survived', data=data1, ax = saxis[1,2])"
   ]
  },
  {
   "cell_type": "code",
   "execution_count": null,
   "metadata": {
    "_cell_guid": "d5f64ab0-2ad1-4b2d-bb5b-b3e8196df09a",
    "_uuid": "9285ac3c47272d97e1b5a3e9d5f693b285a7bec2",
    "collapsed": true
   },
   "outputs": [],
   "source": [
    "fig, (axis1,axis2,axis3) = plt.subplots(1,3,figsize=(14,12))\n",
    "\n",
    "sns.boxplot(x = 'Pclass', y = 'Fare', hue = 'Survived', data = data1, ax = axis1)\n",
    "axis1.set_title('Pclass vs Fare Survival Comparison')\n",
    "\n",
    "sns.violinplot(x = 'Pclass', y = 'Age', hue = 'Survived', data = data1, split = True, ax = axis2)\n",
    "axis2.set_title('Pclass vs Age Survival Comparison')\n",
    "\n",
    "sns.boxplot(x = 'Pclass', y ='FamilySize', hue = 'Survived', data = data1, ax = axis3)\n",
    "axis3.set_title('Pclass vs Family Size Survival Comparison')"
   ]
  },
  {
   "cell_type": "code",
   "execution_count": null,
   "metadata": {
    "_cell_guid": "c64adbcf-bb9e-4ac7-81fe-cc32dbec9984",
    "_uuid": "7c98f887cebba99c541ac1af747d48ce300532ed",
    "collapsed": true
   },
   "outputs": [],
   "source": [
    "fig, qaxis = plt.subplots(1,3,figsize=(14,12))\n",
    "\n",
    "sns.barplot(x = 'Sex', y = 'Survived', hue = 'Embarked', data=data1, ax = qaxis[0])\n",
    "axis1.set_title('Sex vs Embarked Survival Comparison')\n",
    "\n",
    "sns.barplot(x = 'Sex', y = 'Survived', hue = 'Pclass', data=data1, ax  = qaxis[1])\n",
    "axis1.set_title('Sex vs Pclass Survival Comparison')\n",
    "\n",
    "sns.barplot(x = 'Sex', y = 'Survived', hue = 'IsAlone', data=data1, ax  = qaxis[2])\n",
    "axis1.set_title('Sex vs IsAlone Survival Comparison')"
   ]
  },
  {
   "cell_type": "code",
   "execution_count": null,
   "metadata": {
    "_cell_guid": "42909c80-4f4e-4573-9489-0e8b56578a5f",
    "_uuid": "0a9c3a9367fe66193f762090d74fa03ad8f92b76",
    "collapsed": true
   },
   "outputs": [],
   "source": [
    "fig, (maxis1, maxis2) = plt.subplots(1, 2,figsize=(14,12))\n",
    "sns.pointplot(x=\"FamilySize\", y=\"Survived\", hue=\"Sex\", data=data1,\n",
    "              palette={\"male\": \"blue\", \"female\": \"pink\"},\n",
    "              markers=[\"*\", \"o\"], linestyles=[\"-\", \"--\"], ax = maxis1)\n",
    "sns.pointplot(x=\"Pclass\", y=\"Survived\", hue=\"Sex\", data=data1,\n",
    "              palette={\"male\": \"blue\", \"female\": \"pink\"},\n",
    "              markers=[\"*\", \"o\"], linestyles=[\"-\", \"--\"], ax = maxis2)"
   ]
  },
  {
   "cell_type": "code",
   "execution_count": null,
   "metadata": {
    "_cell_guid": "23072dbf-629d-46d1-b0d3-61affd805ffc",
    "_uuid": "9c198c6cc80f325db06fabbc79f197c7524595e3",
    "collapsed": true
   },
   "outputs": [],
   "source": [
    "e = sns.FacetGrid(data1, col = 'Embarked')\n",
    "e.map(sns.pointplot, 'Pclass', 'Survived', 'Sex', ci=95.0, palette = 'deep')\n",
    "e.add_legend()"
   ]
  },
  {
   "cell_type": "code",
   "execution_count": null,
   "metadata": {
    "_cell_guid": "d1749e02-355d-4209-af23-6c326e426a55",
    "_uuid": "3ede990a7e35035d112aff7bc0deb1b936009756",
    "collapsed": true
   },
   "outputs": [],
   "source": [
    "a = sns.FacetGrid( data1, hue = 'Survived', aspect=4 )\n",
    "a.map(sns.kdeplot, 'Age', shade= True )\n",
    "a.set(xlim=(0 , data1['Age'].max()))\n",
    "a.add_legend()"
   ]
  },
  {
   "cell_type": "code",
   "execution_count": null,
   "metadata": {
    "_cell_guid": "4b18d4b5-7a5d-4a80-8b63-06ea48ee2b7a",
    "_uuid": "9217b8fd04d2070a3588f507fe7a93fbdf962abe",
    "collapsed": true
   },
   "outputs": [],
   "source": [
    "h = sns.FacetGrid(data1, row = 'Sex', col = 'Pclass', hue = 'Survived')\n",
    "h.map(plt.hist, 'Age', alpha = .75)\n",
    "h.add_legend()"
   ]
  },
  {
   "cell_type": "code",
   "execution_count": null,
   "metadata": {
    "_uuid": "63732f03ad79273b0b13c464b01b3b36a62ed462",
    "collapsed": true
   },
   "outputs": [],
   "source": [
    "data1_x_bin"
   ]
  },
  {
   "cell_type": "code",
   "execution_count": null,
   "metadata": {
    "_cell_guid": "68816e33-19bc-482e-b4e8-062098b18798",
    "_uuid": "979ae81e95cf760f05e94853b932b5101198b4e9",
    "collapsed": true
   },
   "outputs": [],
   "source": [
    "cv_split = model_selection.ShuffleSplit(n_splits = 10, test_size = .3, train_size = .6, random_state = 0 ) # run model 10x with 60/30 split intentionally leaving out 10%\n",
    "#MLA_columns = ['MLA Name', 'MLA Parameters','MLA Train Accuracy Mean', 'MLA Test Accuracy Mean', 'MLA Test Accuracy 3*STD' ,'MLA Time']\n",
    "#MLA_compare = pd.DataFrame(columns = MLA_columns)\n",
    "MLA_predict = data1[Target]\n",
    "\n",
    "\n",
    "##Ron start svm.SVC\n",
    "cv_results_SVC = model_selection.cross_validate(svm.SVC(probability=True), data1[data1_x_bin], data1[Target], cv  = cv_split)\n",
    "Time_SVC = cv_results_SVC['fit_time'].mean()\n",
    "print('Time SVC: \\n', Time_SVC)\n",
    "print(\"-\"*25)\n",
    "Train_Accuracy_Mean_SVC = cv_results_SVC['train_score'].mean()\n",
    "print('Train Accuracy Mean SVC: \\n', Train_Accuracy_Mean_SVC)\n",
    "print(\"-\"*25)\n",
    "Test_Accuracy_Mean_SVC = cv_results_SVC['test_score'].mean()\n",
    "print('Test Accuracy Mean SVC: \\n', Test_Accuracy_Mean_SVC)\n",
    "print(\"-\"*70)\n",
    "svm.SVC(probability=True).fit(data1[data1_x_bin], data1[Target])\n",
    "#MLA_predict[svm.SVC(probability=True).__class__.__name__] = svm.SVC(probability=True).predict(data1_x_bin)\n",
    "##Ron end svm.SVC\n",
    "\n",
    "##Ron start XGBClassifier\n",
    "cv_results_XGBClassifier = model_selection.cross_validate(XGBClassifier(), data1[data1_x_bin], data1[Target], cv  = cv_split)\n",
    "Time_XGBClassifier = cv_results_XGBClassifier['fit_time'].mean()\n",
    "print('Time XGBClassifier: \\n', Time_XGBClassifier)\n",
    "print(\"-\"*25)\n",
    "Train_Accuracy_Mean_XGBClassifier = cv_results_XGBClassifier['train_score'].mean()\n",
    "print('Train Accuracy Mean XGBClassifier: \\n', Train_Accuracy_Mean_XGBClassifier)\n",
    "print(\"-\"*25)\n",
    "Test_Accuracy_Mean_XGBClassifier = cv_results_XGBClassifier['test_score'].mean()\n",
    "print('Test Accuracy Mean XGBClassifier: \\n', Test_Accuracy_Mean_XGBClassifier)\n",
    "print(\"-\"*70)\n",
    "XGBClassifier().fit(data1[data1_x_bin], data1[Target])\n",
    "MLA_predict[XGBClassifier().__class__.__name__] = XGBClassifier().predict(data1[data1_x_bin])\n",
    "##Ron end XGBClassifier\n",
    "\n",
    "\n",
    "\n",
    "\n",
    "##Ron start neighbors.KNeighborsClassifier\n",
    "cv_results_KNN = model_selection.cross_validate(neighbors.KNeighborsClassifier(), data1[data1_x_bin], data1[Target], cv  = cv_split)\n",
    "Time_KNN = cv_results_KNN['fit_time'].mean()\n",
    "print('Time KNN: \\n', Time_KNN)\n",
    "print(\"-\"*25)\n",
    "Train_Accuracy_Mean_KNN = cv_results_KNN['train_score'].mean()\n",
    "print('Train Accuracy Mean KNN: \\n', Train_Accuracy_Mean_KNN)\n",
    "print(\"-\"*25)\n",
    "Test_Accuracy_Mean_KNN = cv_results_KNN['test_score'].mean()\n",
    "print('Test Accuracy Mean KNN: \\n', Test_Accuracy_Mean_KNN)\n",
    "print(\"-\"*70)\n",
    "neighbors.KNeighborsClassifier().fit(data1[data1_x_bin], data1[Target])\n",
    "#MLA_predict[neighbors.KNeighborsClassifier().__class__.__name__] = neighbors.KNeighborsClassifier().predict(data1[data1_x_bin])\n",
    "##Ron end neighbors.KNeighborsClassifier\n",
    "\n"
   ]
  },
  {
   "cell_type": "markdown",
   "metadata": {
    "_cell_guid": "51f197c2-76d7-4503-ade5-f9f35323c4c5",
    "_uuid": "2e95a403934cf5c0ab1ff9148b62ef14590e84c9"
   },
   "source": [
    "\n"
   ]
  }
 ],
 "metadata": {
  "kernelspec": {
   "display_name": "Python 3",
   "language": "python",
   "name": "python3"
  },
  "language_info": {
   "codemirror_mode": {
    "name": "ipython",
    "version": 3
   },
   "file_extension": ".py",
   "mimetype": "text/x-python",
   "name": "python",
   "nbconvert_exporter": "python",
   "pygments_lexer": "ipython3",
   "version": "3.6.3"
  }
 },
 "nbformat": 4,
 "nbformat_minor": 1
}
